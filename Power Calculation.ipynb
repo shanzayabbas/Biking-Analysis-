{
 "cells": [
  {
   "cell_type": "code",
   "execution_count": 4,
   "id": "70c3d276-660c-44df-907f-e574f01e6d01",
   "metadata": {},
   "outputs": [
    {
     "name": "stdout",
     "output_type": "stream",
     "text": [
      "Rolling Resistance Force: 3.04 N\n",
      "Air Resistance Force: 5.50 N\n",
      "Total Force: 8.54 N\n",
      "Power Required: 34.50 W\n"
     ]
    }
   ],
   "source": [
    "import numpy as np\n",
    "\n",
    "# Constants\n",
    "C_r = 0.005  # Rolling resistance coefficient (example value)\n",
    "mass = 62  # Total mass in kg (me + bike)\n",
    "g = 9.81  # Acceleration due to gravity in m/s^2\n",
    "Air_density = 1.225  # Air density in kg/m^3\n",
    "Frontal_Area = 0.5  # Frontal area in m^2 \n",
    "C_d = 1.1  # Drag coefficient \n",
    "velocity = 4.04\n",
    "\n",
    "# Calculate forces\n",
    "F_r = C_r * mass * g\n",
    "F_a = 0.5 * Air_density * Frontal_Area * C_d * velocity**2\n",
    "\n",
    "# Total force\n",
    "F_total = F_r + F_a\n",
    "\n",
    "# Power required\n",
    "power = F_total * velocity\n",
    "\n",
    "print(f\"Rolling Resistance Force: {F_r:.2f} N\")\n",
    "print(f\"Air Resistance Force: {F_a:.2f} N\")\n",
    "print(f\"Total Force: {F_total:.2f} N\")\n",
    "print(f\"Power Required: {power:.2f} W\")\n"
   ]
  },
  {
   "cell_type": "code",
   "execution_count": null,
   "id": "344ba6e5-a169-4ae0-8ddb-aa07d953b3bf",
   "metadata": {},
   "outputs": [],
   "source": []
  }
 ],
 "metadata": {
  "kernelspec": {
   "display_name": "Python 3",
   "language": "python",
   "name": "python3"
  },
  "language_info": {
   "codemirror_mode": {
    "name": "ipython",
    "version": 3
   },
   "file_extension": ".py",
   "mimetype": "text/x-python",
   "name": "python",
   "nbconvert_exporter": "python",
   "pygments_lexer": "ipython3",
   "version": "3.10.4"
  }
 },
 "nbformat": 4,
 "nbformat_minor": 5
}
